{
  "nbformat": 4,
  "nbformat_minor": 0,
  "metadata": {
    "colab": {
      "provenance": [],
      "authorship_tag": "ABX9TyOK2F3C3TS2/qBxKYJwjJGi",
      "include_colab_link": true
    },
    "kernelspec": {
      "name": "python3",
      "display_name": "Python 3"
    },
    "language_info": {
      "name": "python"
    },
    "accelerator": "GPU",
    "gpuClass": "standard"
  },
  "cells": [
    {
      "cell_type": "markdown",
      "metadata": {
        "id": "view-in-github",
        "colab_type": "text"
      },
      "source": [
        "<a href=\"https://colab.research.google.com/github/Ariiiff/NLP_Practices/blob/main/simple_lstm_example2.ipynb\" target=\"_parent\"><img src=\"https://colab.research.google.com/assets/colab-badge.svg\" alt=\"Open In Colab\"/></a>"
      ]
    },
    {
      "cell_type": "code",
      "execution_count": 6,
      "metadata": {
        "id": "3cKzvkVwDhQg"
      },
      "outputs": [],
      "source": [
        "import pandas as pd\n",
        "import numpy as np\n",
        "import matplotlib.pyplot as plt\n",
        "import seaborn as sns\n",
        "from sklearn.model_selection import train_test_split\n",
        "from sklearn.preprocessing import LabelEncoder\n",
        "from keras.models import Model\n",
        "from keras.layers import LSTM, Activation, Dense, Dropout, Input, Embedding\n",
        "from keras.optimizers import RMSprop\n",
        "from tensorflow.keras.preprocessing.text import Tokenizer \n",
        "from tensorflow.keras.preprocessing.sequence import pad_sequences\n",
        "from keras.preprocessing import sequence\n",
        "from keras.utils import to_categorical\n",
        "from keras.callbacks import EarlyStopping\n",
        "from keras.models import Sequential\n",
        "%matplotlib inline"
      ]
    },
    {
      "cell_type": "code",
      "source": [
        "# example data\n",
        "texts = ['This is a positive sentence.',\n",
        "         'This is a negative sentence.',\n",
        "         'Another positive sentence here.',\n",
        "         'And another negative sentence.']\n",
        "\n",
        "labels = np.array([1, 0, 1, 0])"
      ],
      "metadata": {
        "id": "btHIDoDXDtJc"
      },
      "execution_count": 7,
      "outputs": []
    },
    {
      "cell_type": "code",
      "source": [
        "# tokenize the texts\n",
        "tokenizer = Tokenizer(num_words=1000)\n",
        "tokenizer.fit_on_texts(texts)\n",
        "sequences = tokenizer.texts_to_sequences(texts)"
      ],
      "metadata": {
        "id": "3eWoJh0wDx70"
      },
      "execution_count": 8,
      "outputs": []
    },
    {
      "cell_type": "code",
      "source": [
        "sequences"
      ],
      "metadata": {
        "colab": {
          "base_uri": "https://localhost:8080/"
        },
        "id": "3IO4SHrWFBJ5",
        "outputId": "d6407ff7-c80a-4996-ae5b-ed5202b979a4"
      },
      "execution_count": 18,
      "outputs": [
        {
          "output_type": "execute_result",
          "data": {
            "text/plain": [
              "[[2, 3, 4, 5, 1], [2, 3, 4, 6, 1], [7, 5, 1, 8], [9, 7, 6, 1]]"
            ]
          },
          "metadata": {},
          "execution_count": 18
        }
      ]
    },
    {
      "cell_type": "code",
      "source": [
        "# pad the sequences to ensure they are all the same length\n",
        "max_length = max([len(seq) for seq in sequences])\n",
        "padded_sequences = pad_sequences(sequences, maxlen=max_length)"
      ],
      "metadata": {
        "id": "ro0H_MOZD5aS"
      },
      "execution_count": 9,
      "outputs": []
    },
    {
      "cell_type": "code",
      "source": [
        "padded_sequences"
      ],
      "metadata": {
        "colab": {
          "base_uri": "https://localhost:8080/"
        },
        "id": "wDHgMmFkFMJg",
        "outputId": "05050b1a-ad17-4e81-c92f-08a4b0ac428f"
      },
      "execution_count": 19,
      "outputs": [
        {
          "output_type": "execute_result",
          "data": {
            "text/plain": [
              "array([[2, 3, 4, 5, 1],\n",
              "       [2, 3, 4, 6, 1],\n",
              "       [0, 7, 5, 1, 8],\n",
              "       [0, 9, 7, 6, 1]], dtype=int32)"
            ]
          },
          "metadata": {},
          "execution_count": 19
        }
      ]
    },
    {
      "cell_type": "markdown",
      "source": [
        "###Model \n",
        "#####Sequential : A sequential model is a linear stack of layers. In this case, we will add several layers to the model, one after the other.\n",
        "#####Embedding : An embedding layer maps discrete values (in this case, words represented by integers) to a continuous vector space. In this case, we will use an embedding layer with 1000 input dimensions, 64 output dimensions, and a fixed input length of max_length.\n",
        "#####Dropout: Tdropout layer is a regularization technique that randomly sets some of the inputs to zero during training, which can help prevent overfitting. In this case, we will use a dropout rate of 0.5.\n",
        "#####LSTM:  A LSTM layer is a type of recurrent neural network (RNN) layer that can maintain long-term dependencies in the data. In this case, we will use an LSTM layer with 32 units.\n",
        "#####Dense: A dense layer is a fully connected layer that applies a linear transformation to its input. In this case, we will use a dense layer with a single unit and a sigmoid activation function, which will output a probability between 0 and 1 representing the predicted class label."
      ],
      "metadata": {
        "id": "i1814D_sG0tA"
      }
    },
    {
      "cell_type": "code",
      "source": [
        "# define the model\n",
        "model = Sequential() \n",
        "model.add(Embedding(1000, 64, input_length=max_length))\n",
        "model.add(Dropout(0.5))\n",
        "model.add(LSTM(32)) \n",
        "model.add(Dense(1, activation='sigmoid')) "
      ],
      "metadata": {
        "id": "Rw-E5IBCD8DS"
      },
      "execution_count": 10,
      "outputs": []
    },
    {
      "cell_type": "code",
      "source": [
        "# compile the model\n",
        "model.compile(loss='binary_crossentropy', optimizer='adam', metrics=['accuracy'])\n"
      ],
      "metadata": {
        "id": "N63_IeeyD-fa"
      },
      "execution_count": 11,
      "outputs": []
    },
    {
      "cell_type": "code",
      "source": [
        "# fit the model\n",
        "history = model.fit(padded_sequences, labels, epochs=10, batch_size=32)"
      ],
      "metadata": {
        "colab": {
          "base_uri": "https://localhost:8080/"
        },
        "id": "Qb9x7SseEPOG",
        "outputId": "59a142e8-3374-470e-da80-436a09049458"
      },
      "execution_count": 12,
      "outputs": [
        {
          "output_type": "stream",
          "name": "stdout",
          "text": [
            "Epoch 1/10\n",
            "1/1 [==============================] - 8s 8s/step - loss: 0.6886 - accuracy: 0.5000\n",
            "Epoch 2/10\n",
            "1/1 [==============================] - 0s 13ms/step - loss: 0.6856 - accuracy: 0.7500\n",
            "Epoch 3/10\n",
            "1/1 [==============================] - 0s 11ms/step - loss: 0.6843 - accuracy: 0.7500\n",
            "Epoch 4/10\n",
            "1/1 [==============================] - 0s 14ms/step - loss: 0.6902 - accuracy: 1.0000\n",
            "Epoch 5/10\n",
            "1/1 [==============================] - 0s 24ms/step - loss: 0.6903 - accuracy: 0.7500\n",
            "Epoch 6/10\n",
            "1/1 [==============================] - 0s 15ms/step - loss: 0.6835 - accuracy: 1.0000\n",
            "Epoch 7/10\n",
            "1/1 [==============================] - 0s 16ms/step - loss: 0.6921 - accuracy: 0.5000\n",
            "Epoch 8/10\n",
            "1/1 [==============================] - 0s 17ms/step - loss: 0.6803 - accuracy: 1.0000\n",
            "Epoch 9/10\n",
            "1/1 [==============================] - 0s 20ms/step - loss: 0.6816 - accuracy: 1.0000\n",
            "Epoch 10/10\n",
            "1/1 [==============================] - 0s 16ms/step - loss: 0.6832 - accuracy: 0.7500\n"
          ]
        }
      ]
    },
    {
      "cell_type": "code",
      "source": [
        "# evaluate the model on the training data\n",
        "loss, accuracy = model.evaluate(padded_sequences, labels)\n",
        "print('Training accuracy:', accuracy)"
      ],
      "metadata": {
        "colab": {
          "base_uri": "https://localhost:8080/"
        },
        "id": "o921ox6zESBS",
        "outputId": "c4f96e09-7485-48c2-87e7-a0892358b378"
      },
      "execution_count": 13,
      "outputs": [
        {
          "output_type": "stream",
          "name": "stdout",
          "text": [
            "1/1 [==============================] - 1s 782ms/step - loss: 0.6764 - accuracy: 1.0000\n",
            "Training accuracy: 1.0\n"
          ]
        }
      ]
    },
    {
      "cell_type": "code",
      "source": [
        "# predict on some new texts\n",
        "new_texts = ['This is a very positive sentence.', 'I hate this negative sentence.']\n",
        "new_sequences = tokenizer.texts_to_sequences(new_texts)\n",
        "new_padded_sequences = pad_sequences(new_sequences, maxlen=max_length)\n",
        "predictions = model.predict(new_padded_sequences)\n"
      ],
      "metadata": {
        "colab": {
          "base_uri": "https://localhost:8080/"
        },
        "id": "tH97ndZ3EUup",
        "outputId": "1bca7819-9d8e-41b1-af22-88c614f9ad62"
      },
      "execution_count": 16,
      "outputs": [
        {
          "output_type": "stream",
          "name": "stdout",
          "text": [
            "1/1 [==============================] - 0s 21ms/step\n"
          ]
        }
      ]
    },
    {
      "cell_type": "code",
      "source": [
        "# Print the predicted labels\n",
        "for i in range(len(new_texts)):\n",
        "    if predictions[i] > 0.5:\n",
        "        print('{}: positive'.format(new_texts[i]))\n",
        "    else:\n",
        "        print('{}: negetive'.format(new_texts[i]))"
      ],
      "metadata": {
        "colab": {
          "base_uri": "https://localhost:8080/"
        },
        "id": "NM81bNt9EY_6",
        "outputId": "ea231c2c-6574-4412-b023-610540e95e5b"
      },
      "execution_count": 17,
      "outputs": [
        {
          "output_type": "stream",
          "name": "stdout",
          "text": [
            "This is a very positive sentence.: positive\n",
            "I hate this negative sentence.: negetive\n"
          ]
        }
      ]
    },
    {
      "cell_type": "code",
      "source": [],
      "metadata": {
        "id": "RQ_HLE5QEuWi"
      },
      "execution_count": null,
      "outputs": []
    }
  ]
}